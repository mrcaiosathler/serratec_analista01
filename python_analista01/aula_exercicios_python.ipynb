{
  "cells": [
    {
      "cell_type": "markdown",
      "id": "7b6db2c9",
      "metadata": {
        "id": "7b6db2c9"
      },
      "source": [
        "## Exercício 1: Verifique se um número é positivo, negativo ou zero."
      ]
    },
    {
      "cell_type": "code",
      "source": [
        "#1. Pergunte o número ao usuário.\n",
        "#2. Anote o número informado pelo usuário.\n",
        "#3. Verifique se o número informado é maior, menor ou igual ao número zero.\n",
        "#4. Se uma das verificações anteriores for verdadeira, considerar as demais falsas\n",
        "#5. Pegue o resultado verdadeiro da verificação anterior.\n",
        "#6. Se o número for maior que zero, informar que é um número positivo.\n",
        "#7. Se o número for igual a zero, informar que é zero.\n",
        "#8. Se o número for menor que zero, informar que é um número negativo.\n",
        "\n",
        "num = float(input('Digite um número: '))\n",
        "if num > 0:\n",
        "  print('O número é positivo')\n",
        "elif num < 0:\n",
        "  print('O número é negativo')\n",
        "else:\n",
        "  print('O número é zero')\n"
      ],
      "metadata": {
        "colab": {
          "base_uri": "https://localhost:8080/"
        },
        "id": "1xnhcO-NoXez",
        "outputId": "61c426a2-987c-4682-accb-268739939775"
      },
      "id": "1xnhcO-NoXez",
      "execution_count": null,
      "outputs": [
        {
          "output_type": "stream",
          "name": "stdout",
          "text": [
            "Digite um número: 0\n",
            "O número é zero\n"
          ]
        }
      ]
    },
    {
      "cell_type": "markdown",
      "id": "70afdbb7",
      "metadata": {
        "id": "70afdbb7"
      },
      "source": [
        "## Exercício 2: Peça dois números e exiba o maior."
      ]
    },
    {
      "cell_type": "code",
      "source": [
        "#1. Pergunte ao usuário um número.\n",
        "#2. Anote esse número.\n",
        "#3. Pergunte ao usuário um outro número, diferente do primeiro.\n",
        "#4. Anote também esse número.\n",
        "#5. Verificar se o primeiro número é maior que o segundo número.\n",
        "#6. Anotar o maior número dentre os dois.\n",
        "#7. Exibir o número anotado após a verificação do passo #5.\n",
        "\n",
        "num1 = float(input('Digite o primeiro número: '))\n",
        "num2 = float(input('Digite agora o segundo número: '))\n",
        "if num1 > num2:\n",
        "  print('O número maior é: ', num1)\n",
        "elif num1 == num2:\n",
        "  print('Os números são iguais')\n",
        "else:\n",
        "  print('O número maior é: ', num2)"
      ],
      "metadata": {
        "colab": {
          "base_uri": "https://localhost:8080/"
        },
        "id": "r_R1rFb8ofC7",
        "outputId": "57413161-0e53-45b3-ffb3-2186786ce79e"
      },
      "id": "r_R1rFb8ofC7",
      "execution_count": null,
      "outputs": [
        {
          "output_type": "stream",
          "name": "stdout",
          "text": [
            "Digite o primeiro número: 7.9\n",
            "Digite agora o segundo número: 7.8\n",
            "O número maior é:  7.9\n"
          ]
        }
      ]
    },
    {
      "cell_type": "markdown",
      "id": "36fc3988",
      "metadata": {
        "id": "36fc3988"
      },
      "source": [
        "## Exercício 3: Verifique se um número é par ou ímpar."
      ]
    },
    {
      "cell_type": "code",
      "source": [
        "#1. Pergunte ao usuário um número\n",
        "#2. Anote o número informado\n",
        "#3. Efetue a divisão deste número por 2 (dois).\n",
        "#4. Anote o resultado desta divisão e também o resto.\n",
        "#5. Verificar se o resultado da divisão é um número inteiro.\n",
        "#6. Verificar se o resto da divisão é igual a zero.\n",
        "#7. Em caso de ambas verificações serem verdadeiras, informar que o número é par.\n",
        "#8. Em caso de uma das verificaçõs ser falsa, informar que o número é ímpar.\n",
        "#9. Em caso de ambas verificações serem falsas, informar que o número é ímpar.\n",
        "\n",
        "num = float(input('Digite um número: '))\n",
        "if num % 2 == 0:\n",
        "  print('Esse número é par')\n",
        "else:\n",
        "  print('Esse número é ímpar')\n"
      ],
      "metadata": {
        "colab": {
          "base_uri": "https://localhost:8080/"
        },
        "id": "Igd1677PomHT",
        "outputId": "06ad7a77-ec15-4737-8133-a0ae10f09c89"
      },
      "id": "Igd1677PomHT",
      "execution_count": null,
      "outputs": [
        {
          "output_type": "stream",
          "name": "stdout",
          "text": [
            "Digite um número: 8\n",
            "Esse número é par\n"
          ]
        }
      ]
    },
    {
      "cell_type": "markdown",
      "id": "f0288374",
      "metadata": {
        "id": "f0288374"
      },
      "source": [
        "## Exercício 4: Verifique se um ano é bissexto."
      ]
    },
    {
      "cell_type": "code",
      "source": [
        "#1. Pergunte ao usuário um ano.\n",
        "#2. Anote o ano informado pelo usuário.\n",
        "#3. Verificar se o número informado é múltiplo de 4, mas não é múltiplo de 100.\n",
        "#4. Verificar se o número informado é múltiplo de 400.\n",
        "#5. Se as verificações #3 ou #4 forem verdadeiras, informar que o ano é bissexto.\n",
        "#6. Se as verificações #3 e #4 forem falsas, informar que o ano não é bissexto.\n",
        "\n",
        "ano = int(input('Informe um ano, com quatro dígitos: '))\n",
        "if (ano % 4 == 0 and ano % 100 != 0) or ano % 400 == 0:\n",
        "  print('O ano',ano,'é bissexto')\n",
        "else:\n",
        "  print('O ano',ano,'não é bissexto')"
      ],
      "metadata": {
        "colab": {
          "base_uri": "https://localhost:8080/"
        },
        "id": "sysH3OeEotXK",
        "outputId": "dda1ef7b-5eb8-47d7-ca48-fe108d835f06"
      },
      "id": "sysH3OeEotXK",
      "execution_count": null,
      "outputs": [
        {
          "output_type": "stream",
          "name": "stdout",
          "text": [
            "Informe um ano, com quatr dígitos: 1882\n",
            "O ano 1882 não é bissexto\n"
          ]
        }
      ]
    },
    {
      "cell_type": "markdown",
      "id": "970dae23",
      "metadata": {
        "id": "970dae23"
      },
      "source": [
        "## Exercício 5: Peça três números e exiba o maior."
      ]
    },
    {
      "cell_type": "code",
      "source": [
        "num1 = float(input('Informe o primeiro número: '))\n",
        "num2 = float(input('Informe o segundo número: '))\n",
        "num3 = float(input('Informe o terceiro número: '))\n",
        "print('O maior número é:', max(num1, num2, num3))"
      ],
      "metadata": {
        "colab": {
          "base_uri": "https://localhost:8080/"
        },
        "id": "0d--MQWc5PoD",
        "outputId": "54acdc6e-d52c-4fb5-8e3d-ce294bd3056c"
      },
      "id": "0d--MQWc5PoD",
      "execution_count": null,
      "outputs": [
        {
          "output_type": "stream",
          "name": "stdout",
          "text": [
            "Informe o primeiro número:10\n",
            "Informe o segundo número:5\n",
            "Informe o terceiro número:9\n",
            "O maior número é: 10.0\n"
          ]
        }
      ]
    },
    {
      "cell_type": "markdown",
      "id": "f7950b6a",
      "metadata": {
        "id": "f7950b6a"
      },
      "source": [
        "## Exercício 6: Verifique se um usuário pode votar (idade >= 18)."
      ]
    },
    {
      "cell_type": "code",
      "source": [
        "idade = int(input('Informe sua idade, por favor: '))\n",
        "if idade >= 18:\n",
        "  print('O usuário já pode votar!')\n",
        "else:\n",
        "  print ('O usuário ainda não tem idade para votar!')"
      ],
      "metadata": {
        "colab": {
          "base_uri": "https://localhost:8080/"
        },
        "id": "bY_OayW96vxQ",
        "outputId": "f39ef7c1-6f5f-43be-d6c4-6686286974b7"
      },
      "id": "bY_OayW96vxQ",
      "execution_count": null,
      "outputs": [
        {
          "output_type": "stream",
          "name": "stdout",
          "text": [
            "Informe sua idade, por favor: 35\n",
            "O usuário já pode votar!\n"
          ]
        }
      ]
    },
    {
      "cell_type": "markdown",
      "source": [
        "## Exercício 7: Verifique se já posso ir embora da aula de Análise de Dados sem assinar a folha."
      ],
      "metadata": {
        "id": "vI3rAnHNMp8m"
      },
      "id": "vI3rAnHNMp8m"
    },
    {
      "cell_type": "code",
      "source": [
        "\"\"\"hora = float(input('Informe as horas que pretende sair, seguindo o formato \"hora.minuto\": '))\n",
        "if hora >= 21.45:\n",
        "  print('Você já pode ir embora sem assinar a lista! Bom descanso.')\n",
        "else:\n",
        "  print('Você ainda não pode ir embora, espere um pouco mais!')  \"\"\"\n",
        "\n",
        "from datetime import datetime, time\n",
        "print(datetime.now().time())\n",
        "if datetime.now().time() >= time(hour=00, minute=45):\n",
        "  print('Pode sair!')\n",
        "else:\n",
        "  print('Não pode!')\n"
      ],
      "metadata": {
        "colab": {
          "base_uri": "https://localhost:8080/"
        },
        "id": "FDOOhO0_9LOq",
        "outputId": "101e989f-8072-41f2-e2e1-a853732ce5f8"
      },
      "id": "FDOOhO0_9LOq",
      "execution_count": null,
      "outputs": [
        {
          "output_type": "stream",
          "name": "stdout",
          "text": [
            "22:43:19.603877\n",
            "Pode sair!\n"
          ]
        }
      ]
    },
    {
      "cell_type": "markdown",
      "id": "d6b4f5ae",
      "metadata": {
        "id": "d6b4f5ae"
      },
      "source": [
        "## Exercício 8: Verifique se uma senha digitada corresponde a '1234'."
      ]
    },
    {
      "cell_type": "code",
      "source": [
        "senha = input('Informe sua senha: ')\n",
        "if senha == '1234':\n",
        "  print('Senha correta!')\n",
        "else:\n",
        "  print('Senha incorreta!')"
      ],
      "metadata": {
        "colab": {
          "base_uri": "https://localhost:8080/"
        },
        "id": "REYQ_f67-HWo",
        "outputId": "95e96cde-8324-4ac8-a722-29b95cfa27a9"
      },
      "id": "REYQ_f67-HWo",
      "execution_count": null,
      "outputs": [
        {
          "output_type": "stream",
          "name": "stdout",
          "text": [
            "Informe sua senha: 1234\n",
            "Senha correta!\n"
          ]
        }
      ]
    },
    {
      "cell_type": "markdown",
      "id": "b3b40b44",
      "metadata": {
        "id": "b3b40b44"
      },
      "source": [
        "## Exercício 9: Verifique se um número está entre 10 e 50."
      ]
    },
    {
      "cell_type": "code",
      "source": [
        "num = float(input('Informe um número: '))\n",
        "if  10 < num < 50:\n",
        "  print('O número está entre 10 e 50')\n",
        "else:\n",
        "  print('O número não está entre 10 e 50')"
      ],
      "metadata": {
        "colab": {
          "base_uri": "https://localhost:8080/"
        },
        "id": "K-dAun8g_Or-",
        "outputId": "b4ae9882-f6ac-49a9-9bdc-86f3c575797d"
      },
      "id": "K-dAun8g_Or-",
      "execution_count": null,
      "outputs": [
        {
          "output_type": "stream",
          "name": "stdout",
          "text": [
            "Informe um número: 10.0001\n",
            "O número está entre 10 e 50\n"
          ]
        }
      ]
    },
    {
      "cell_type": "markdown",
      "id": "026219a5",
      "metadata": {
        "id": "026219a5"
      },
      "source": [
        "## Exercício 10: Peça ao usuário um número e exiba 'Alto' se for maior que 100 e 'Baixo' se for menor."
      ]
    },
    {
      "cell_type": "code",
      "source": [
        "num = float(input('Informe um número: '))\n",
        "if num > 100:\n",
        "  print('Alto!')\n",
        "else:\n",
        "  print('Baixo!')"
      ],
      "metadata": {
        "colab": {
          "base_uri": "https://localhost:8080/"
        },
        "id": "YFqafP_BBCzg",
        "outputId": "ed615a07-e80e-4d15-82e3-be18dbddaa82"
      },
      "id": "YFqafP_BBCzg",
      "execution_count": null,
      "outputs": [
        {
          "output_type": "stream",
          "name": "stdout",
          "text": [
            "Informe um número: 55\n",
            "Baixo!\n"
          ]
        }
      ]
    },
    {
      "cell_type": "markdown",
      "id": "d329e93a",
      "metadata": {
        "id": "d329e93a"
      },
      "source": [
        "## Exercício 11: Crie um menu onde o usuário pode escolher entre somar, subtrair, multiplicar e dividir dois números."
      ]
    },
    {
      "cell_type": "code",
      "source": [
        "def operacao(op, a, b):\n",
        "  return{\n",
        "      '1': a+b,\n",
        "      '2': a-b,\n",
        "      '3': a*b,\n",
        "      '4': a/b if b != 0 else 'Divisão por zero não é aceita'\n",
        "  }.get(op, 'Operação inválida')\n",
        "\n",
        "op = input('Escolha: 1 - Soma, 2 - Sub, 3 - Mult, 4 - Div: ')\n",
        "a, b = map(int, input ('Digite dois números: ').split())\n",
        "print ('Resultado: ', operacao(op, a, b))"
      ],
      "metadata": {
        "colab": {
          "base_uri": "https://localhost:8080/"
        },
        "id": "exNYhejWln7f",
        "outputId": "1f57bda0-f997-44d7-ec66-c333fd27e438"
      },
      "id": "exNYhejWln7f",
      "execution_count": null,
      "outputs": [
        {
          "output_type": "stream",
          "name": "stdout",
          "text": [
            "Escolha: 1 - Soma, 2 - Sub, 3 - Mult, 4 - Div: 3\n",
            "Digite dois números: 5 15\n",
            "Resultado:  75\n"
          ]
        }
      ]
    },
    {
      "cell_type": "markdown",
      "id": "185590d4",
      "metadata": {
        "id": "185590d4"
      },
      "source": [
        "## Exercício 12: Crie um menu para converter temperaturas entre Celsius, Fahrenheit e Kelvin."
      ]
    },
    {
      "cell_type": "code",
      "source": [
        "def temperaturas(op, t):\n",
        "  return{\n",
        "      'Fahrenheit': (t * 1.8)+32,\n",
        "      'Kelvin': t + 273.15,\n",
        "  }.get(op, 'Operação inválida')\n",
        "\n",
        "t = float(input ('Digite a temperatura, em Celsius: '))\n",
        "op = input('Escolha para qual temperatura converter: Fahrenheit ou Kelvin? ')\n",
        "print ('Resultado: ', temperaturas(op, t))"
      ],
      "metadata": {
        "colab": {
          "base_uri": "https://localhost:8080/"
        },
        "id": "JxzD4oFQnk5p",
        "outputId": "10a66acf-4228-438b-e3fc-f9b651bdb866"
      },
      "id": "JxzD4oFQnk5p",
      "execution_count": null,
      "outputs": [
        {
          "output_type": "stream",
          "name": "stdout",
          "text": [
            "Digite a temperatura, em Celsius: 30\n",
            "Escolha para qual temperatura converter: Fahrenheit ou Kelvin? Kelvin\n",
            "Resultado:  303.15\n"
          ]
        }
      ]
    },
    {
      "cell_type": "markdown",
      "id": "f8254fda",
      "metadata": {
        "id": "f8254fda"
      },
      "source": [
        "## Exercício 13: Crie um programa que traduza números de 1 a 5 para palavras (1 = um, 2 = dois...)."
      ]
    },
    {
      "cell_type": "code",
      "source": [
        "def numeros(op):\n",
        "  return{\n",
        "      '1': 'Um',\n",
        "      '2': 'Dois',\n",
        "      '3': 'Três',\n",
        "      '4': 'Quatro',\n",
        "      '5': 'Cinco',\n",
        "  }.get(op, 'Operação inválida')\n",
        "\n",
        "op = input('Escolha um número para ser escrito por extenso: 1, 2, 3,4 ou 5: ')\n",
        "print ('Resultado: ', numeros(op))"
      ],
      "metadata": {
        "colab": {
          "base_uri": "https://localhost:8080/"
        },
        "id": "SQ0Eg6DwxkMy",
        "outputId": "de660a95-7b44-4c29-aac9-ec4aabf67d2f"
      },
      "id": "SQ0Eg6DwxkMy",
      "execution_count": null,
      "outputs": [
        {
          "output_type": "stream",
          "name": "stdout",
          "text": [
            "Escolha um número para ser escrito por extenso: 1, 2, 3,4 ou 5: 3\n",
            "Resultado:  Três\n"
          ]
        }
      ]
    },
    {
      "cell_type": "markdown",
      "id": "1479a2ad",
      "metadata": {
        "id": "1479a2ad"
      },
      "source": [
        "## Exercício 14: Crie um menu onde o usuário pode escolher entre exibir a data, hora ou sair."
      ]
    },
    {
      "cell_type": "code",
      "source": [
        "from datetime import datetime, time, date\n",
        "\n",
        "def calendario(op):\n",
        "  return{\n",
        "      'Dia': datetime.now().date(),\n",
        "      'Hora': datetime.now().time(),\n",
        "      'Sair': 'Okay, até mais!'\n",
        "  }.get(op, 'Operação inválida')\n",
        "\n",
        "op = input('1 - Dia\\n2 - Hora\\n3 - Sair\\n\\nEscolha o que exibir: ')\n",
        "print (calendario(op))"
      ],
      "metadata": {
        "colab": {
          "base_uri": "https://localhost:8080/"
        },
        "id": "JuXlt4uPtoZ3",
        "outputId": "f6a21f98-2aeb-480d-f85b-54ad66de9bb8"
      },
      "id": "JuXlt4uPtoZ3",
      "execution_count": null,
      "outputs": [
        {
          "output_type": "stream",
          "name": "stdout",
          "text": [
            "1 - Dia\n",
            "2 - Hora\n",
            "3 - Sair\n",
            "\n",
            "Escolha o que exibir: Sair\n",
            "Okay, até mais!\n"
          ]
        }
      ]
    },
    {
      "cell_type": "markdown",
      "id": "49ca94fd",
      "metadata": {
        "id": "49ca94fd"
      },
      "source": [
        "## Exercício 15: Implemente um programa que identifica o dia da semana baseado em um número (1 = Segunda, 7 = Domingo)."
      ]
    },
    {
      "cell_type": "code",
      "source": [
        "def numeros(op):\n",
        "  return{\n",
        "      '1': 'Segunda',\n",
        "      '2': 'Terça',\n",
        "      '3': 'Quarta',\n",
        "      '4': 'Quinta',\n",
        "      '5': 'Sexta',\n",
        "      '6': 'Sábado',\n",
        "      '7': 'Domingo',\n",
        "  }.get(op, 'Operação inválida')\n",
        "\n",
        "op = input('Escolha um número: 1, 2, 3, 4, 5, 6 ou 7: ')\n",
        "print ('Resultado: ', numeros(op))"
      ],
      "metadata": {
        "colab": {
          "base_uri": "https://localhost:8080/"
        },
        "id": "4ffBqxcJD4do",
        "outputId": "480e5021-4002-4f18-c4ef-23863c2799ce"
      },
      "id": "4ffBqxcJD4do",
      "execution_count": null,
      "outputs": [
        {
          "output_type": "stream",
          "name": "stdout",
          "text": [
            "Escolha um número: 1, 2, 3, 4, 5, 6 ou 7: 3\n",
            "Resultado:  Quarta\n"
          ]
        }
      ]
    },
    {
      "cell_type": "markdown",
      "id": "7f1b4a1e",
      "metadata": {
        "id": "7f1b4a1e"
      },
      "source": [
        "## Exercício 16: Verifique se um número é par ou ímpar usando if ternário."
      ]
    },
    {
      "cell_type": "code",
      "source": [
        "num1 = int(input('Informe um número, por favor: '))\n",
        "print('Par' if num1 % 2 == 0 else 'Ímpar')"
      ],
      "metadata": {
        "colab": {
          "base_uri": "https://localhost:8080/"
        },
        "id": "8oAahNdpEqNA",
        "outputId": "eff951de-2743-4aa7-f085-59761a34e30f"
      },
      "id": "8oAahNdpEqNA",
      "execution_count": null,
      "outputs": [
        {
          "output_type": "stream",
          "name": "stdout",
          "text": [
            "Informe um número, por favor: 7\n",
            "Ímpar\n"
          ]
        }
      ]
    },
    {
      "cell_type": "markdown",
      "id": "4b647778",
      "metadata": {
        "id": "4b647778"
      },
      "source": [
        "## Exercício 17: Verifique se um número é positivo ou negativo usando if ternário."
      ]
    },
    {
      "cell_type": "code",
      "source": [
        "num1 = int(input('Informe um número, por favor: '))\n",
        "print('Positivo' if num1 > 0 else 'Negativo')"
      ],
      "metadata": {
        "colab": {
          "base_uri": "https://localhost:8080/"
        },
        "id": "kzR--UmHHls-",
        "outputId": "a35af656-9c2f-4abe-e30f-ad9ee493eb70"
      },
      "id": "kzR--UmHHls-",
      "execution_count": null,
      "outputs": [
        {
          "output_type": "stream",
          "name": "stdout",
          "text": [
            "Informe um número, por favor: -5\n",
            "Negativo\n"
          ]
        }
      ]
    },
    {
      "cell_type": "markdown",
      "id": "a6ed0e6f",
      "metadata": {
        "id": "a6ed0e6f"
      },
      "source": [
        "## Exercício 18: Retorne 'Adulto' se a idade for maior ou igual a 18, senão 'Menor de idade'."
      ]
    },
    {
      "cell_type": "code",
      "source": [
        "idade = int(input('Informe sua idade: '))\n",
        "if idade >=18:\n",
        "  print('Adulto')\n",
        "else:\n",
        "  print('Menor de idade')"
      ],
      "metadata": {
        "colab": {
          "base_uri": "https://localhost:8080/"
        },
        "id": "U1UCEvk094bx",
        "outputId": "eb60f0a5-3f3f-4f80-bd28-7f3f08533675"
      },
      "id": "U1UCEvk094bx",
      "execution_count": null,
      "outputs": [
        {
          "output_type": "stream",
          "name": "stdout",
          "text": [
            "Informe sua idade: 17\n",
            "Menor de idade\n"
          ]
        }
      ]
    },
    {
      "cell_type": "markdown",
      "id": "354ae09c",
      "metadata": {
        "id": "354ae09c"
      },
      "source": [
        "## Exercício 19: Verifique se um número é maior que 100 e retorne 'Grande' ou 'Pequeno'."
      ]
    },
    {
      "cell_type": "code",
      "source": [
        "num = float(input('Informe um número, por favor:'))\n",
        "if num > 100:\n",
        "  print('Grande!')\n",
        "else:\n",
        "  print('Pequeno!')"
      ],
      "metadata": {
        "colab": {
          "base_uri": "https://localhost:8080/"
        },
        "id": "sT0lOt1S-S9_",
        "outputId": "3c88c7c2-fac0-4bb4-83ac-1c7c2d6209bd"
      },
      "id": "sT0lOt1S-S9_",
      "execution_count": null,
      "outputs": [
        {
          "output_type": "stream",
          "name": "stdout",
          "text": [
            "Informe um número, por favor:7\n",
            "Pequeno!\n"
          ]
        }
      ]
    },
    {
      "cell_type": "markdown",
      "id": "dc89b94f",
      "metadata": {
        "id": "dc89b94f"
      },
      "source": [
        "## Exercício 20: Retorne 'Aprovado' se a nota for maior ou igual a 7, senão 'Reprovado'."
      ]
    },
    {
      "cell_type": "code",
      "source": [
        "nota = float(input('Informe sua nota, por favor:'))\n",
        "if nota >=7:\n",
        "  print('Aprovado!')\n",
        "else:\n",
        "  print('Reprovado!')"
      ],
      "metadata": {
        "colab": {
          "base_uri": "https://localhost:8080/"
        },
        "id": "9DWdxXM2_gSv",
        "outputId": "01162bf1-7345-49bd-ef41-299e0e1f3361"
      },
      "id": "9DWdxXM2_gSv",
      "execution_count": null,
      "outputs": [
        {
          "output_type": "stream",
          "name": "stdout",
          "text": [
            "Informe sua nota, por favor:7.9\n",
            "Aprovado!\n"
          ]
        }
      ]
    },
    {
      "cell_type": "markdown",
      "id": "58cdaa42",
      "metadata": {
        "id": "58cdaa42"
      },
      "source": [
        "## Exercício 21: Imprima os números de 1 a 10 usando um laço for."
      ]
    },
    {
      "cell_type": "code",
      "source": [
        "for i in range (1, 11):\n",
        "  print (i)"
      ],
      "metadata": {
        "id": "OF1sZ4OYKNNM"
      },
      "id": "OF1sZ4OYKNNM",
      "execution_count": null,
      "outputs": []
    },
    {
      "cell_type": "markdown",
      "id": "ee76ef90",
      "metadata": {
        "id": "ee76ef90"
      },
      "source": [
        "## Exercício 22: Imprima os números pares de 1 a 20."
      ]
    },
    {
      "cell_type": "code",
      "source": [
        "for i in range (2, 21, 2):\n",
        "   print (i)"
      ],
      "metadata": {
        "colab": {
          "base_uri": "https://localhost:8080/"
        },
        "id": "bKAcb1ocJ9HX",
        "outputId": "64a26e7f-f2d6-4a69-8faf-86479e6e3c1a"
      },
      "id": "bKAcb1ocJ9HX",
      "execution_count": null,
      "outputs": [
        {
          "output_type": "stream",
          "name": "stdout",
          "text": [
            "2\n",
            "4\n",
            "6\n",
            "8\n",
            "10\n",
            "12\n",
            "14\n",
            "16\n",
            "18\n",
            "20\n"
          ]
        }
      ]
    },
    {
      "cell_type": "markdown",
      "id": "b482d8a2",
      "metadata": {
        "id": "b482d8a2"
      },
      "source": [
        "## Exercício 23: Calcule a soma dos números de 1 a 100."
      ]
    },
    {
      "cell_type": "code",
      "source": [
        "soma = 0\n",
        "for i in range (1, 101):\n",
        "  soma = soma+i\n",
        "print (soma)"
      ],
      "metadata": {
        "colab": {
          "base_uri": "https://localhost:8080/"
        },
        "id": "6wGS4ID7LubI",
        "outputId": "3d7d6422-91d2-4213-fca1-47a236ca7ec4"
      },
      "id": "6wGS4ID7LubI",
      "execution_count": null,
      "outputs": [
        {
          "output_type": "stream",
          "name": "stdout",
          "text": [
            "5050\n"
          ]
        }
      ]
    },
    {
      "cell_type": "markdown",
      "id": "07ad69f1",
      "metadata": {
        "id": "07ad69f1"
      },
      "source": [
        "## Exercício 24: Imprima a tabuada do 5."
      ]
    },
    {
      "cell_type": "code",
      "source": [
        "for i in range (5, 51, 5):\n",
        "  print (i)"
      ],
      "metadata": {
        "colab": {
          "base_uri": "https://localhost:8080/"
        },
        "id": "WIIJYl-FKhkn",
        "outputId": "b5bd00d6-15ce-461b-dedc-40c894a56a0d"
      },
      "id": "WIIJYl-FKhkn",
      "execution_count": null,
      "outputs": [
        {
          "output_type": "stream",
          "name": "stdout",
          "text": [
            "5\n",
            "10\n",
            "15\n",
            "20\n",
            "25\n",
            "30\n",
            "35\n",
            "40\n",
            "45\n",
            "50\n"
          ]
        }
      ]
    },
    {
      "cell_type": "markdown",
      "id": "f4513a53",
      "metadata": {
        "id": "f4513a53"
      },
      "source": [
        "## Exercício 25: Imprima os 10 primeiros números da sequência de Fibonacci."
      ]
    },
    {
      "cell_type": "code",
      "source": [
        "def fibonacci(n):\n",
        "    if n <= 1:\n",
        "        return n\n",
        "    return fibonacci(n - 1) + fibonacci(n - 2)\n",
        "\n",
        "for i in range(10):\n",
        "    print(fibonacci(i), end=\" \")"
      ],
      "metadata": {
        "colab": {
          "base_uri": "https://localhost:8080/"
        },
        "id": "YsIF0KwYMnmQ",
        "outputId": "e71ed713-bf7e-420f-f194-4609d8b4702d"
      },
      "id": "YsIF0KwYMnmQ",
      "execution_count": null,
      "outputs": [
        {
          "output_type": "stream",
          "name": "stdout",
          "text": [
            "0 1 1 2 3 5 8 13 21 34 "
          ]
        }
      ]
    },
    {
      "cell_type": "markdown",
      "id": "859ddee6",
      "metadata": {
        "id": "859ddee6"
      },
      "source": [
        "## Exercício 26: Percorra uma string e imprima cada caractere."
      ]
    },
    {
      "cell_type": "markdown",
      "id": "f2e48a7b",
      "metadata": {
        "id": "f2e48a7b"
      },
      "source": [
        "## Exercício 27: Crie um programa que peça um número e imprima sua contagem regressiva até 0."
      ]
    },
    {
      "cell_type": "markdown",
      "id": "1ffc8d99",
      "metadata": {
        "id": "1ffc8d99"
      },
      "source": [
        "## Exercício 28: Crie um programa que solicite 5 números ao usuário e exiba a soma deles."
      ]
    },
    {
      "cell_type": "markdown",
      "id": "603fbc7a",
      "metadata": {
        "id": "603fbc7a"
      },
      "source": [
        "## Exercício 29: Imprima todas as vogais de uma string digitada pelo usuário."
      ]
    },
    {
      "cell_type": "markdown",
      "id": "60f8b06d",
      "metadata": {
        "id": "60f8b06d"
      },
      "source": [
        "## Exercício 30: Crie um programa que peça 5 números e exiba apenas os números pares."
      ]
    },
    {
      "cell_type": "markdown",
      "id": "48c9a395",
      "metadata": {
        "id": "48c9a395"
      },
      "source": [
        "## Exercício 31: Percorra uma lista de frutas e imprima cada uma."
      ]
    },
    {
      "cell_type": "markdown",
      "id": "adb57877",
      "metadata": {
        "id": "adb57877"
      },
      "source": [
        "## Exercício 32: Some todos os números de uma lista."
      ]
    },
    {
      "cell_type": "markdown",
      "id": "03989ca7",
      "metadata": {
        "id": "03989ca7"
      },
      "source": [
        "## Exercício 33: Multiplique cada número de uma lista por 2 e imprima o resultado."
      ]
    },
    {
      "cell_type": "markdown",
      "id": "2f959625",
      "metadata": {
        "id": "2f959625"
      },
      "source": [
        "## Exercício 34: Conte quantas palavras existem em uma lista de palavras."
      ]
    },
    {
      "cell_type": "markdown",
      "id": "32331e7c",
      "metadata": {
        "id": "32331e7c"
      },
      "source": [
        "## Exercício 35: Imprima cada letra de uma palavra separadamente."
      ]
    },
    {
      "cell_type": "markdown",
      "id": "88c43389",
      "metadata": {
        "id": "88c43389"
      },
      "source": [
        "## Exercício 36: Crie uma lista com 5 números e imprima o maior."
      ]
    },
    {
      "cell_type": "markdown",
      "id": "cefe2b8d",
      "metadata": {
        "id": "cefe2b8d"
      },
      "source": [
        "## Exercício 37: Crie uma lista e inverta a ordem dos elementos."
      ]
    },
    {
      "cell_type": "markdown",
      "id": "6f090c30",
      "metadata": {
        "id": "6f090c30"
      },
      "source": [
        "## Exercício 38: Crie uma lista com 5 nomes e remova o último nome."
      ]
    },
    {
      "cell_type": "markdown",
      "id": "494fdd4f",
      "metadata": {
        "id": "494fdd4f"
      },
      "source": [
        "## Exercício 39: Ordene uma lista de números."
      ]
    },
    {
      "cell_type": "markdown",
      "id": "becf6860",
      "metadata": {
        "id": "becf6860"
      },
      "source": [
        "## Exercício 40: Crie uma lista com 5 números e exiba apenas os pares."
      ]
    },
    {
      "cell_type": "markdown",
      "id": "1be545d4",
      "metadata": {
        "id": "1be545d4"
      },
      "source": [
        "## Exercício 41: Crie uma lista e adicione um novo elemento no final."
      ]
    },
    {
      "cell_type": "markdown",
      "id": "e5f49687",
      "metadata": {
        "id": "e5f49687"
      },
      "source": [
        "## Exercício 42: Verifique se um número existe dentro de uma lista."
      ]
    },
    {
      "cell_type": "markdown",
      "id": "c7126906",
      "metadata": {
        "id": "c7126906"
      },
      "source": [
        "## Exercício 43: Crie uma lista de números e calcule a média."
      ]
    },
    {
      "cell_type": "markdown",
      "id": "b3d38297",
      "metadata": {
        "id": "b3d38297"
      },
      "source": [
        "## Exercício 44: Crie uma lista de nomes e converta todos para maiúsculas."
      ]
    },
    {
      "cell_type": "markdown",
      "id": "7217ec03",
      "metadata": {
        "id": "7217ec03"
      },
      "source": [
        "## Exercício 45: Crie uma lista de números e remova os duplicados."
      ]
    },
    {
      "cell_type": "markdown",
      "id": "c508fdb6",
      "metadata": {
        "id": "c508fdb6"
      },
      "source": [
        "## Exercício 46: Crie um dicionário com nomes de alunos e suas notas e exiba a nota de um aluno específico."
      ]
    },
    {
      "cell_type": "markdown",
      "id": "0bfb53d7",
      "metadata": {
        "id": "0bfb53d7"
      },
      "source": [
        "## Exercício 47: Adicione um novo aluno e sua nota a um dicionário."
      ]
    },
    {
      "cell_type": "markdown",
      "id": "366e0034",
      "metadata": {
        "id": "366e0034"
      },
      "source": [
        "## Exercício 48: Remova um aluno do dicionário."
      ]
    },
    {
      "cell_type": "markdown",
      "id": "6dc1e9fa",
      "metadata": {
        "id": "6dc1e9fa"
      },
      "source": [
        "## Exercício 49: Percorra um dicionário e imprima suas chaves e valores."
      ]
    },
    {
      "cell_type": "markdown",
      "id": "5757f1ac",
      "metadata": {
        "id": "5757f1ac"
      },
      "source": [
        "## Exercício 50: Verifique se uma chave existe no dicionário."
      ]
    }
  ],
  "metadata": {
    "colab": {
      "provenance": []
    },
    "language_info": {
      "name": "python"
    },
    "kernelspec": {
      "name": "python3",
      "display_name": "Python 3"
    }
  },
  "nbformat": 4,
  "nbformat_minor": 5
}